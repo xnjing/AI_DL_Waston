{
    "nbformat_minor": 1, 
    "cells": [
        {
            "source": "from tensorflow.examples.tutorials.mnist import input_data\nmnist =input_data.read_data_sets(\"MNIST_data/\", one_hot=True)", 
            "cell_type": "code", 
            "metadata": {}, 
            "outputs": [
                {
                    "output_type": "stream", 
                    "name": "stdout", 
                    "text": "Extracting MNIST_data/train-images-idx3-ubyte.gz\nExtracting MNIST_data/train-labels-idx1-ubyte.gz\nExtracting MNIST_data/t10k-images-idx3-ubyte.gz\nExtracting MNIST_data/t10k-labels-idx1-ubyte.gz\n"
                }
            ], 
            "execution_count": 1
        }, 
        {
            "source": "import tensorflow as tf\n%matplotlib inline\nimport matplotlib.pyplot as plt", 
            "cell_type": "code", 
            "metadata": {}, 
            "outputs": [], 
            "execution_count": 2
        }, 
        {
            "source": "batch_xs, batch_ys = mnist.train.next_batch(1)\nX = batch_xs\nX = X.reshape([28,28])\nplt.gray()\nprint(batch_ys)\nplt.imshow(X)", 
            "cell_type": "code", 
            "metadata": {}, 
            "outputs": [
                {
                    "output_type": "stream", 
                    "name": "stdout", 
                    "text": "[[ 0.  0.  0.  0.  1.  0.  0.  0.  0.  0.]]\n"
                }, 
                {
                    "output_type": "execute_result", 
                    "data": {
                        "text/plain": "<matplotlib.image.AxesImage at 0x7feac4f7f518>"
                    }, 
                    "execution_count": 3, 
                    "metadata": {}
                }, 
                {
                    "output_type": "display_data", 
                    "data": {
                        "image/png": "[encoded data removed]", 
                        "text/plain": "<matplotlib.figure.Figure at 0x7feac51fde10>"
                    }, 
                    "metadata": {}
                }
            ], 
            "execution_count": 3
        }, 
        {
            "source": "x = tf.placeholder(tf.float32, [None, 784])\nW = tf.Variable(tf.zeros([784,10]))\nb = tf.Variable(tf.zeros([10]))\ny = tf.nn.softmax(tf.matmul(x, W) + b)", 
            "cell_type": "code", 
            "metadata": {}, 
            "outputs": [], 
            "execution_count": 4
        }, 
        {
            "source": "y_ = tf.placeholder(tf.float32, [None, 10])", 
            "cell_type": "code", 
            "metadata": {}, 
            "outputs": [], 
            "execution_count": 5
        }, 
        {
            "source": "cross_entropy = tf.reduce_mean(-tf.reduce_sum(y_*tf.log(y), reduction_indices=[1]))\ntrain_step = tf.train.GradientDescentOptimizer(0.5).minimize(cross_entropy)", 
            "cell_type": "code", 
            "metadata": {}, 
            "outputs": [], 
            "execution_count": 6
        }, 
        {
            "source": "sess = tf.InteractiveSession()", 
            "cell_type": "code", 
            "metadata": {}, 
            "outputs": [], 
            "execution_count": 7
        }, 
        {
            "source": "tf.global_variables_initializer().run()", 
            "cell_type": "code", 
            "metadata": {}, 
            "outputs": [], 
            "execution_count": 8
        }, 
        {
            "source": "for _ in range(1000):\n    batch_xs, batch_ys = mnist.train.next_batch(200)\n    sess.run(train_step, feed_dict={x: batch_xs, y_:batch_ys})", 
            "cell_type": "code", 
            "metadata": {}, 
            "outputs": [], 
            "execution_count": 9
        }, 
        {
            "source": "correct_prediction = tf.equal(tf.argmax(y,1), tf.argmax(y_,1))", 
            "cell_type": "code", 
            "metadata": {}, 
            "outputs": [], 
            "execution_count": 10
        }, 
        {
            "source": "accuracy = tf.reduce_mean(tf.cast(correct_prediction, tf.float32))", 
            "cell_type": "code", 
            "metadata": {}, 
            "outputs": [], 
            "execution_count": 11
        }, 
        {
            "source": "print(sess.run(accuracy, feed_dict={x: mnist.test.images, y_: mnist.test.labels}))", 
            "cell_type": "code", 
            "metadata": {}, 
            "outputs": [
                {
                    "output_type": "stream", 
                    "name": "stdout", 
                    "text": "0.9197\n"
                }
            ], 
            "execution_count": 12
        }, 
        {
            "source": "print(\"Accuracy:\", accuracy.eval({x: mnist.test.images, y_: mnist.test.labels}))", 
            "cell_type": "code", 
            "metadata": {}, 
            "outputs": [
                {
                    "output_type": "stream", 
                    "name": "stdout", 
                    "text": "Accuracy: 0.9197\n"
                }
            ], 
            "execution_count": 13
        }
    ], 
    "metadata": {
        "kernelspec": {
            "display_name": "Python 3.5 with Spark 2.1", 
            "name": "python3-spark21", 
            "language": "python"
        }, 
        "language_info": {
            "mimetype": "text/x-python", 
            "nbconvert_exporter": "python", 
            "version": "3.5.4", 
            "name": "python", 
            "pygments_lexer": "ipython3", 
            "file_extension": ".py", 
            "codemirror_mode": {
                "version": 3, 
                "name": "ipython"
            }
        }
    }, 
    "nbformat": 4
}